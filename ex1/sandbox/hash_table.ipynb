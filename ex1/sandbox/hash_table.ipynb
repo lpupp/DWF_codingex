{
 "cells": [
  {
   "cell_type": "markdown",
   "id": "3838a756",
   "metadata": {},
   "source": [
    "# Hash table example"
   ]
  },
  {
   "cell_type": "code",
   "execution_count": null,
   "id": "7cb45595",
   "metadata": {},
   "outputs": [],
   "source": [
    "import sys\n",
    "sys.path.append(\"..\")\n",
    "\n",
    "from run_ex1 import tokenize, load_gutenberg_text, build_word_counts"
   ]
  },
  {
   "cell_type": "code",
   "execution_count": null,
   "id": "b29415d0",
   "metadata": {},
   "outputs": [],
   "source": [
    "URL = \"https://www.gutenberg.org/files/98/98-0.txt\"\n",
    "text = load_gutenberg_text(URL)\n",
    "words = tokenize(text)\n",
    "table = build_word_counts(words, capacity=32_768)"
   ]
  },
  {
   "cell_type": "code",
   "execution_count": 3,
   "id": "92ba8c39",
   "metadata": {},
   "outputs": [
    {
     "name": "stdout",
     "output_type": "stream",
     "text": [
      "Unique words: 9944\n",
      "Count('the'): 8242\n"
     ]
    }
   ],
   "source": [
    "print(\"Unique words:\", table.size)\n",
    "print(\"Count('the'):\", table.get(\"the\"))"
   ]
  },
  {
   "cell_type": "code",
   "execution_count": 4,
   "id": "30d43213",
   "metadata": {},
   "outputs": [
    {
     "name": "stdout",
     "output_type": "stream",
     "text": [
      "grinding 1\n",
      "xix 2\n",
      "dispense 2\n",
      "wither 1\n",
      "thankful 7\n",
      "ward 3\n",
      "east 3\n",
      "inquired 8\n",
      "quest 3\n",
      "perspective 2\n"
     ]
    }
   ],
   "source": [
    "# 10 sample items (arbitrary order due to probing)\n",
    "n = 0\n",
    "for k, v in table.items():\n",
    "    print(k, v)\n",
    "    n += 1\n",
    "    if n == 10:\n",
    "        break"
   ]
  },
  {
   "cell_type": "markdown",
   "id": "7b00f287",
   "metadata": {},
   "source": [
    "## Recency"
   ]
  },
  {
   "cell_type": "code",
   "execution_count": 5,
   "id": "6b445837",
   "metadata": {},
   "outputs": [
    {
     "name": "stdout",
     "output_type": "stream",
     "text": [
      "Most recent change: ('ebooks', 7)\n",
      "Least recent change: ('author', 1)\n"
     ]
    }
   ],
   "source": [
    "# Most and least recent\n",
    "print(\"Most recent change:\", table.get_last())\n",
    "print(\"Least recent change:\", table.get_first())"
   ]
  },
  {
   "cell_type": "code",
   "execution_count": 6,
   "id": "39ffce73",
   "metadata": {},
   "outputs": [
    {
     "name": "stdout",
     "output_type": "stream",
     "text": [
      "Most recent change: ('thrown', 10)\n",
      "Least recent change: ('author', 1)\n"
     ]
    }
   ],
   "source": [
    "# Most and least recent after change to existing word\n",
    "table.insert('thrown', 10)\n",
    "print(\"Most recent change:\", table.get_last())\n",
    "print(\"Least recent change:\", table.get_first())"
   ]
  },
  {
   "cell_type": "code",
   "execution_count": 7,
   "id": "76b00e78",
   "metadata": {},
   "outputs": [
    {
     "name": "stdout",
     "output_type": "stream",
     "text": [
      "Most recent change: ('ebooks', 7)\n",
      "Least recent change: ('author', 1)\n"
     ]
    }
   ],
   "source": [
    "# Most and least recent after removing most recent change\n",
    "table.remove('thrown')\n",
    "print(\"Most recent change:\", table.get_last())\n",
    "print(\"Least recent change:\", table.get_first())"
   ]
  },
  {
   "cell_type": "code",
   "execution_count": 8,
   "id": "64c7c084",
   "metadata": {},
   "outputs": [
    {
     "name": "stdout",
     "output_type": "stream",
     "text": [
      "Most recent change: ('ebooks', 7)\n",
      "Least recent change: ('author', 1)\n"
     ]
    }
   ],
   "source": [
    "# Most and least recent after removing arbitrary word\n",
    "table.remove('hanging')\n",
    "print(\"Most recent change:\", table.get_last())\n",
    "print(\"Least recent change:\", table.get_first())"
   ]
  },
  {
   "cell_type": "code",
   "execution_count": 9,
   "id": "c38afa18",
   "metadata": {},
   "outputs": [
    {
     "name": "stdout",
     "output_type": "stream",
     "text": [
      "Most recent change: ('new_word', 10)\n",
      "Least recent change: ('author', 1)\n"
     ]
    }
   ],
   "source": [
    "# Most and least recent after adding new word\n",
    "table.insert('new_word', 10)\n",
    "print(\"Most recent change:\", table.get_last())\n",
    "print(\"Least recent change:\", table.get_first())"
   ]
  },
  {
   "cell_type": "code",
   "execution_count": 10,
   "id": "bc9ecf7b",
   "metadata": {},
   "outputs": [
    {
     "name": "stdout",
     "output_type": "stream",
     "text": [
      "Most recent change: ('new_word', 10)\n",
      "Least recent change: ('january', 1)\n"
     ]
    }
   ],
   "source": [
    "# Most and least recent after removing most least recent\n",
    "table.remove('author')\n",
    "print(\"Most recent change:\", table.get_last())\n",
    "print(\"Least recent change:\", table.get_first())"
   ]
  },
  {
   "cell_type": "markdown",
   "id": "0ae1419f",
   "metadata": {},
   "source": [
    "## Remove functionality"
   ]
  },
  {
   "cell_type": "code",
   "execution_count": 11,
   "id": "c4ddbf75",
   "metadata": {},
   "outputs": [
    {
     "ename": "KeyError",
     "evalue": "'octopus'",
     "output_type": "error",
     "traceback": [
      "\u001b[0;31m---------------------------------------------------------------------------\u001b[0m",
      "\u001b[0;31mKeyError\u001b[0m                                  Traceback (most recent call last)",
      "Cell \u001b[0;32mIn[11], line 2\u001b[0m\n\u001b[1;32m      1\u001b[0m \u001b[38;5;66;03m# Removing non-existing word fails\u001b[39;00m\n\u001b[0;32m----> 2\u001b[0m \u001b[43mtable\u001b[49m\u001b[38;5;241;43m.\u001b[39;49m\u001b[43mremove\u001b[49m\u001b[43m(\u001b[49m\u001b[38;5;124;43m'\u001b[39;49m\u001b[38;5;124;43moctopus\u001b[39;49m\u001b[38;5;124;43m'\u001b[39;49m\u001b[43m)\u001b[49m\n",
      "File \u001b[0;32m~/Documents/Github/DWF_codingex/ex1/sandbox/../fixed_hash_table.py:153\u001b[0m, in \u001b[0;36mFixedHashTable.remove\u001b[0;34m(self, key)\u001b[0m\n\u001b[1;32m    151\u001b[0m found_idx, _ \u001b[38;5;241m=\u001b[39m \u001b[38;5;28mself\u001b[39m\u001b[38;5;241m.\u001b[39m_probe(key)\n\u001b[1;32m    152\u001b[0m \u001b[38;5;28;01mif\u001b[39;00m found_idx \u001b[38;5;129;01mis\u001b[39;00m \u001b[38;5;28;01mNone\u001b[39;00m:\n\u001b[0;32m--> 153\u001b[0m     \u001b[38;5;28;01mraise\u001b[39;00m \u001b[38;5;167;01mKeyError\u001b[39;00m(key)\n\u001b[1;32m    155\u001b[0m \u001b[38;5;28mself\u001b[39m\u001b[38;5;241m.\u001b[39m_unlink(found_idx)\n\u001b[1;32m    157\u001b[0m \u001b[38;5;28mself\u001b[39m\u001b[38;5;241m.\u001b[39mkeys[found_idx] \u001b[38;5;241m=\u001b[39m \u001b[38;5;28;01mNone\u001b[39;00m\n",
      "\u001b[0;31mKeyError\u001b[0m: 'octopus'"
     ]
    }
   ],
   "source": [
    "# Removing non-existing word fails\n",
    "table.remove('octopus')"
   ]
  },
  {
   "cell_type": "code",
   "execution_count": 12,
   "id": "62228fd7",
   "metadata": {},
   "outputs": [],
   "source": [
    "# Remove existing word\n",
    "table.remove('comforted')"
   ]
  },
  {
   "cell_type": "code",
   "execution_count": 13,
   "id": "060b80eb",
   "metadata": {},
   "outputs": [
    {
     "ename": "KeyError",
     "evalue": "'comforted'",
     "output_type": "error",
     "traceback": [
      "\u001b[0;31m---------------------------------------------------------------------------\u001b[0m",
      "\u001b[0;31mKeyError\u001b[0m                                  Traceback (most recent call last)",
      "Cell \u001b[0;32mIn[13], line 2\u001b[0m\n\u001b[1;32m      1\u001b[0m \u001b[38;5;66;03m# Second removal of the same word fails\u001b[39;00m\n\u001b[0;32m----> 2\u001b[0m \u001b[43mtable\u001b[49m\u001b[38;5;241;43m.\u001b[39;49m\u001b[43mremove\u001b[49m\u001b[43m(\u001b[49m\u001b[38;5;124;43m'\u001b[39;49m\u001b[38;5;124;43mcomforted\u001b[39;49m\u001b[38;5;124;43m'\u001b[39;49m\u001b[43m)\u001b[49m\n",
      "File \u001b[0;32m~/Documents/Github/DWF_codingex/ex1/sandbox/../fixed_hash_table.py:153\u001b[0m, in \u001b[0;36mFixedHashTable.remove\u001b[0;34m(self, key)\u001b[0m\n\u001b[1;32m    151\u001b[0m found_idx, _ \u001b[38;5;241m=\u001b[39m \u001b[38;5;28mself\u001b[39m\u001b[38;5;241m.\u001b[39m_probe(key)\n\u001b[1;32m    152\u001b[0m \u001b[38;5;28;01mif\u001b[39;00m found_idx \u001b[38;5;129;01mis\u001b[39;00m \u001b[38;5;28;01mNone\u001b[39;00m:\n\u001b[0;32m--> 153\u001b[0m     \u001b[38;5;28;01mraise\u001b[39;00m \u001b[38;5;167;01mKeyError\u001b[39;00m(key)\n\u001b[1;32m    155\u001b[0m \u001b[38;5;28mself\u001b[39m\u001b[38;5;241m.\u001b[39m_unlink(found_idx)\n\u001b[1;32m    157\u001b[0m \u001b[38;5;28mself\u001b[39m\u001b[38;5;241m.\u001b[39mkeys[found_idx] \u001b[38;5;241m=\u001b[39m \u001b[38;5;28;01mNone\u001b[39;00m\n",
      "\u001b[0;31mKeyError\u001b[0m: 'comforted'"
     ]
    }
   ],
   "source": [
    "# Second removal of the same word fails\n",
    "table.remove('comforted')"
   ]
  },
  {
   "cell_type": "markdown",
   "id": "d44683ea",
   "metadata": {},
   "source": [
    "## Insert functionality"
   ]
  },
  {
   "cell_type": "code",
   "execution_count": 12,
   "id": "514711a6",
   "metadata": {},
   "outputs": [
    {
     "name": "stdout",
     "output_type": "stream",
     "text": [
      "\"chips\" value pre change: 10\n",
      "changing \"chips\" value to 10\n",
      "\"chips\" value post change: 10\n"
     ]
    }
   ],
   "source": [
    "print('\"chips\" value pre change:', table.get('chips'))\n",
    "print('changing \"chips\" value to 10')\n",
    "table.insert('chips', 10)\n",
    "print('\"chips\" value post change:', table.get('chips'))"
   ]
  },
  {
   "cell_type": "code",
   "execution_count": 16,
   "id": "2c199cc2",
   "metadata": {},
   "outputs": [
    {
     "ename": "KeyError",
     "evalue": "'electric'",
     "output_type": "error",
     "traceback": [
      "\u001b[0;31m---------------------------------------------------------------------------\u001b[0m",
      "\u001b[0;31mKeyError\u001b[0m                                  Traceback (most recent call last)",
      "Cell \u001b[0;32mIn[16], line 2\u001b[0m\n\u001b[1;32m      1\u001b[0m \u001b[38;5;66;03m# Non existing word\u001b[39;00m\n\u001b[0;32m----> 2\u001b[0m \u001b[38;5;28mprint\u001b[39m(\u001b[38;5;124m'\u001b[39m\u001b[38;5;124m\"\u001b[39m\u001b[38;5;124melectric\u001b[39m\u001b[38;5;124m\"\u001b[39m\u001b[38;5;124m value pre change:\u001b[39m\u001b[38;5;124m'\u001b[39m, \u001b[43mtable\u001b[49m\u001b[38;5;241;43m.\u001b[39;49m\u001b[43mget\u001b[49m\u001b[43m(\u001b[49m\u001b[38;5;124;43m'\u001b[39;49m\u001b[38;5;124;43melectric\u001b[39;49m\u001b[38;5;124;43m'\u001b[39;49m\u001b[43m)\u001b[49m)\n",
      "File \u001b[0;32m~/Documents/Github/DWF_codingex/ex1/sandbox/../fixed_hash_table.py:141\u001b[0m, in \u001b[0;36mFixedHashTable.get\u001b[0;34m(self, key)\u001b[0m\n\u001b[1;32m    139\u001b[0m found_idx, _ \u001b[38;5;241m=\u001b[39m \u001b[38;5;28mself\u001b[39m\u001b[38;5;241m.\u001b[39m_probe(key)\n\u001b[1;32m    140\u001b[0m \u001b[38;5;28;01mif\u001b[39;00m found_idx \u001b[38;5;129;01mis\u001b[39;00m \u001b[38;5;28;01mNone\u001b[39;00m:\n\u001b[0;32m--> 141\u001b[0m     \u001b[38;5;28;01mraise\u001b[39;00m \u001b[38;5;167;01mKeyError\u001b[39;00m(key)\n\u001b[1;32m    142\u001b[0m \u001b[38;5;28;01mreturn\u001b[39;00m \u001b[38;5;28mself\u001b[39m\u001b[38;5;241m.\u001b[39mvals[found_idx]\n",
      "\u001b[0;31mKeyError\u001b[0m: 'electric'"
     ]
    }
   ],
   "source": [
    "# Non existing word\n",
    "print('\"electric\" value pre change:', table.get('electric'))"
   ]
  },
  {
   "cell_type": "code",
   "execution_count": 17,
   "id": "c4ce7cf9",
   "metadata": {},
   "outputs": [
    {
     "name": "stdout",
     "output_type": "stream",
     "text": [
      "add \"electric\" with value=10\n",
      "\"electric\" value in hash table: 10\n"
     ]
    }
   ],
   "source": [
    "# Add \"electric\" with value=10\n",
    "table.insert('electric', 10)\n",
    "print('\"electric\" value in hash table:', table.get('electric'))"
   ]
  },
  {
   "cell_type": "code",
   "execution_count": null,
   "id": "5602e058",
   "metadata": {},
   "outputs": [],
   "source": []
  }
 ],
 "metadata": {
  "kernelspec": {
   "display_name": "sandbox",
   "language": "python",
   "name": "python3"
  },
  "language_info": {
   "codemirror_mode": {
    "name": "ipython",
    "version": 3
   },
   "file_extension": ".py",
   "mimetype": "text/x-python",
   "name": "python",
   "nbconvert_exporter": "python",
   "pygments_lexer": "ipython3",
   "version": "3.10.18"
  }
 },
 "nbformat": 4,
 "nbformat_minor": 5
}
